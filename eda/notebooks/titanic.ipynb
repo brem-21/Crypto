{
 "cells": [
  {
   "cell_type": "code",
   "execution_count": 1,
   "id": "854303a6",
   "metadata": {},
   "outputs": [],
   "source": [
    "# Importing Libraries\n",
    "import pandas as pd\n",
    "import numpy as np\n",
    "import matplotlib.pyplot as plt\n",
    "import seaborn as sns\n",
    "sns.set(style=\"darkgrid\")\n",
    "import os\n",
    "from dotenv import load_dotenv\n",
    "from sklearn.feature_selection import SelectKBest, mutual_info_classif\n",
    "from sklearn.model_selection import train_test_split\n",
    "from sklearn.preprocessing import LabelEncoder\n",
    "from catboost import CatBoostClassifier, Pool\n",
    "from sklearn.metrics import accuracy_score, classification_report, confusion_matrix\n"
   ]
  },
  {
   "cell_type": "code",
   "execution_count": 2,
   "id": "d80cfec7",
   "metadata": {},
   "outputs": [
    {
     "data": {
      "text/plain": [
       "True"
      ]
     },
     "execution_count": 2,
     "metadata": {},
     "output_type": "execute_result"
    }
   ],
   "source": [
    "load_dotenv()"
   ]
  },
  {
   "cell_type": "code",
   "execution_count": 3,
   "id": "9327867c",
   "metadata": {},
   "outputs": [],
   "source": [
    "url = os.getenv(\"url\")"
   ]
  },
  {
   "cell_type": "code",
   "execution_count": 4,
   "id": "1041258b",
   "metadata": {},
   "outputs": [],
   "source": [
    "def get_data(file_path):\n",
    "    \"\"\"Reading data from a CSV file and returning the full dataset.\"\"\"\n",
    "    try:\n",
    "        data = pd.read_csv(file_path)\n",
    "    except FileNotFoundError as e:\n",
    "        print(f\"Error reading data source: {e}\")\n",
    "    else:\n",
    "        print(f\"Successfully read data from source\")\n",
    "        return data.head()\n",
    "    finally:\n",
    "        print(\"Data loading attempt finished.\")"
   ]
  },
  {
   "cell_type": "code",
   "execution_count": 5,
   "id": "4d59fb8d",
   "metadata": {},
   "outputs": [],
   "source": [
    "def save_data(data, file_path):\n",
    "    \"\"\"Saving data to a CSV file.\"\"\"\n",
    "    try:\n",
    "        data.to_csv(file_path, index=False)\n",
    "    except Exception as e:\n",
    "        print(f\"Error saving data to directory: {e}\")\n",
    "    else:\n",
    "        print(f\"Data saved successfully to directory\")    \n"
   ]
  },
  {
   "cell_type": "code",
   "execution_count": 6,
   "id": "4350f7ca",
   "metadata": {},
   "outputs": [
    {
     "name": "stdout",
     "output_type": "stream",
     "text": [
      "Successfully read data from source\n",
      "Data loading attempt finished.\n"
     ]
    }
   ],
   "source": [
    "data = get_data(url)"
   ]
  },
  {
   "cell_type": "code",
   "execution_count": 7,
   "id": "60363871",
   "metadata": {},
   "outputs": [],
   "source": [
    "def get_description(data):\n",
    "    \"\"\"Get a statistical summary of the dataset.\"\"\"\n",
    "    try:\n",
    "        info = data.info()\n",
    "        stats = data.describe(include='all')\n",
    "    except Exception as e:\n",
    "        print(f\"Error getting Statistics: {e}\")\n",
    "    else:\n",
    "        return info, stats\n",
    "    finally:\n",
    "        print(\"Data description attempt finished.\")"
   ]
  },
  {
   "cell_type": "code",
   "execution_count": 8,
   "id": "3df4118c",
   "metadata": {},
   "outputs": [
    {
     "name": "stdout",
     "output_type": "stream",
     "text": [
      "<class 'pandas.core.frame.DataFrame'>\n",
      "RangeIndex: 5 entries, 0 to 4\n",
      "Data columns (total 12 columns):\n",
      " #   Column       Non-Null Count  Dtype  \n",
      "---  ------       --------------  -----  \n",
      " 0   PassengerId  5 non-null      int64  \n",
      " 1   Pclass       5 non-null      int64  \n",
      " 2   Name         5 non-null      object \n",
      " 3   Sex          5 non-null      object \n",
      " 4   Age          2 non-null      float64\n",
      " 5   SibSp        5 non-null      int64  \n",
      " 6   Parch        5 non-null      int64  \n",
      " 7   Ticket       5 non-null      object \n",
      " 8   Fare         5 non-null      float64\n",
      " 9   Cabin        1 non-null      object \n",
      " 10  Embarked     5 non-null      object \n",
      " 11  Survived     5 non-null      int64  \n",
      "dtypes: float64(2), int64(5), object(5)\n",
      "memory usage: 612.0+ bytes\n",
      "Data description attempt finished.\n"
     ]
    }
   ],
   "source": [
    "data = get_description(data)\n"
   ]
  },
  {
   "cell_type": "code",
   "execution_count": 9,
   "id": "34b12700",
   "metadata": {},
   "outputs": [],
   "source": [
    "def drop_columns(data, column_names=[]):\n",
    "    \"\"\"Drop unnecessary columns from the dataset.\"\"\"\n",
    "    try:\n",
    "        data = data.drop(columns=column_names, axis=1)\n",
    "    except Exception as e:\n",
    "        print(f\"Error dropping columns: {e}\")\n",
    "    else:\n",
    "        print(\"Columns dropped successfully.\")\n",
    "        return data\n",
    "    finally:\n",
    "        print(\"Drop columns attempt finished.\")\n",
    "\n"
   ]
  },
  {
   "cell_type": "code",
   "execution_count": 10,
   "id": "f92bf704",
   "metadata": {},
   "outputs": [
    {
     "name": "stdout",
     "output_type": "stream",
     "text": [
      "Error dropping columns: 'tuple' object has no attribute 'drop'\n",
      "Drop columns attempt finished.\n"
     ]
    }
   ],
   "source": [
    "data = drop_columns(data, ['passengerid', 'name', 'ticket', 'cabin'])"
   ]
  },
  {
   "cell_type": "code",
   "execution_count": 11,
   "id": "2caa07b4",
   "metadata": {},
   "outputs": [],
   "source": [
    "def select_features(X, y, k=5):\n",
    "    \"\"\"Select top k features using mutual information.\"\"\"\n",
    "    try:\n",
    "        selector = SelectKBest(mutual_info_classif, k=k)\n",
    "        X_selected = selector.fit_transform(X, y)\n",
    "        selected_features = X.columns[selector.get_support()]\n",
    "        return X_selected, selected_features\n",
    "    except Exception as e:\n",
    "        print(f\"Error selecting features: {e}\")\n",
    "    finally:\n",
    "        print(\"Feature selection attempt finished.\")"
   ]
  },
  {
   "cell_type": "code",
   "execution_count": 12,
   "id": "956ac4b7",
   "metadata": {},
   "outputs": [],
   "source": [
    "def train_models(data):\n",
    "    \"\"\"Train CatBoost, XGBoost, and LightGBM models with feature selection.\"\"\"\n",
    "    try:\n",
    "        X = data.drop('survived', axis=1)\n",
    "        y = data['survived']\n",
    "        \n",
    "        X_selected, selected_features = select_features(X, y, k=5)\n",
    "        print(f\"Selected features: {list(selected_features)}\")\n",
    "        \n",
    "        X_train, X_test, y_train, y_test = train_test_split(X_selected, y, test_size=0.2, random_state=42)\n",
    "        \n",
    "        models = {}\n",
    "        models['CatBoost'] = CatBoostClassifier(verbose=False, random_state=42)\n",
    "        models['XGBoost'] = XGBClassifier(random_state=42, eval_metric='logloss')\n",
    "        models['LightGBM'] = LGBMClassifier(random_state=42, verbose=-1)\n",
    "        \n",
    "        for name, model in models.items():\n",
    "            model.fit(X_train, y_train)\n",
    "            \n",
    "        return models, X_test, y_test\n",
    "    except Exception as e:\n",
    "        print(f\"Error training models: {e}\")\n",
    "    finally:\n",
    "        print(\"Model training attempt finished.\")"
   ]
  },
  {
   "cell_type": "code",
   "execution_count": 13,
   "id": "4943fb1d",
   "metadata": {},
   "outputs": [],
   "source": [
    "def evaluate_models(models, X_test, y_test):\n",
    "    \"\"\"Generate evaluation report table.\"\"\"\n",
    "    try:\n",
    "        results = []\n",
    "        for name, model in models.items():\n",
    "            y_pred = model.predict(X_test)\n",
    "            y_pred_proba = model.predict_proba(X_test)[:, 1]\n",
    "            \n",
    "            results.append({\n",
    "                'Model': name,\n",
    "                'Accuracy': accuracy_score(y_test, y_pred),\n",
    "                'Precision': precision_score(y_test, y_pred),\n",
    "                'Recall': recall_score(y_test, y_pred),\n",
    "                'F1-Score': f1_score(y_test, y_pred),\n",
    "                'ROC-AUC': roc_auc_score(y_test, y_pred_proba)\n",
    "            })\n",
    "        \n",
    "        return pd.DataFrame(results).round(4)\n",
    "    except Exception as e:\n",
    "        print(f\"Error evaluating models: {e}\")\n",
    "    finally:\n",
    "        print(\"Model evaluation attempt finished.\")\n"
   ]
  },
  {
   "cell_type": "code",
   "execution_count": 14,
   "id": "56de4fcb",
   "metadata": {},
   "outputs": [
    {
     "name": "stdout",
     "output_type": "stream",
     "text": [
      "Error training models: 'NoneType' object has no attribute 'drop'\n",
      "Model training attempt finished.\n"
     ]
    },
    {
     "ename": "TypeError",
     "evalue": "cannot unpack non-iterable NoneType object",
     "output_type": "error",
     "traceback": [
      "\u001b[31m---------------------------------------------------------------------------\u001b[39m",
      "\u001b[31mTypeError\u001b[39m                                 Traceback (most recent call last)",
      "\u001b[36mCell\u001b[39m\u001b[36m \u001b[39m\u001b[32mIn[14]\u001b[39m\u001b[32m, line 1\u001b[39m\n\u001b[32m----> \u001b[39m\u001b[32m1\u001b[39m models, X_test, y_test = train_models(data)\n\u001b[32m      2\u001b[39m report = evaluate_models(models, X_test, y_test)\n\u001b[32m      3\u001b[39m \u001b[38;5;28mprint\u001b[39m(\u001b[33m\"\u001b[39m\u001b[38;5;130;01m\\n\u001b[39;00m\u001b[33mModel Evaluation Report:\u001b[39m\u001b[33m\"\u001b[39m)\n",
      "\u001b[31mTypeError\u001b[39m: cannot unpack non-iterable NoneType object"
     ]
    }
   ],
   "source": [
    "models, X_test, y_test = train_models(data)\n",
    "report = evaluate_models(models, X_test, y_test)\n",
    "print(\"\\nModel Evaluation Report:\")\n",
    "print(report)"
   ]
  }
 ],
 "metadata": {
  "kernelspec": {
   "display_name": "crypto",
   "language": "python",
   "name": "python3"
  },
  "language_info": {
   "codemirror_mode": {
    "name": "ipython",
    "version": 3
   },
   "file_extension": ".py",
   "mimetype": "text/x-python",
   "name": "python",
   "nbconvert_exporter": "python",
   "pygments_lexer": "ipython3",
   "version": "3.11.11"
  }
 },
 "nbformat": 4,
 "nbformat_minor": 5
}
